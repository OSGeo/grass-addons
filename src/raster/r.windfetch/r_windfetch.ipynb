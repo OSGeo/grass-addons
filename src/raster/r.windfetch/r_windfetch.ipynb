{
 "cells": [
  {
   "cell_type": "markdown",
   "metadata": {},
   "source": [
    "# r.windfetch\n",
    "\n",
    "This notebook runs the example from r.windfetch's manual page and visualizes the output.\n",
    "\n",
    "## Setup\n",
    "\n",
    "We will be using the NC SPM sample location."
   ]
  },
  {
   "cell_type": "code",
   "execution_count": null,
   "metadata": {},
   "outputs": [],
   "source": [
    "import os\n",
    "import json\n",
    "import subprocess\n",
    "import sys\n",
    "import matplotlib.pyplot as plt\n",
    "import numpy as np\n",
    "\n",
    "# Import GRASS packages\n",
    "import grass.script as gs\n",
    "import grass.jupyter as gj\n",
    "\n",
    "# Start GRASS Session\n",
    "gj.init(\"~/grassdata/nc_basic_spm_grass7/user1\")"
   ]
  },
  {
   "cell_type": "markdown",
   "metadata": {},
   "source": [
    "## Create example from the tool's manual page"
   ]
  },
  {
   "cell_type": "markdown",
   "metadata": {},
   "source": [
    "```\n",
    "r.mapcalc \"land = if (isnull(lakes), 1, 0)\"\n",
    "r.windfetch input=land format=json coordinates=635659,223234\n",
    "```"
   ]
  },
  {
   "cell_type": "code",
   "execution_count": null,
   "metadata": {},
   "outputs": [],
   "source": [
    "gs.run_command(\"g.region\", n=224140, s=222330, w=634500, e=636400, res=10)\n",
    "gs.mapcalc(\"land = if (isnull(lakes), 1, 0)\")\n",
    "point = (635659, 223234)\n",
    "data = gs.parse_command(\"r.windfetch\", input=\"land\", format=\"json\", coordinates=point)\n",
    "gs.write_command(\n",
    "    \"v.in.ascii\", input=\"-\", output=\"point\", stdin=f\"{point[0]}|{point[1]}\"\n",
    ")"
   ]
  },
  {
   "cell_type": "code",
   "execution_count": null,
   "metadata": {},
   "outputs": [],
   "source": [
    "r_windfetch_map = gj.Map(use_region=True)\n",
    "r_windfetch_map.d_rast(map=\"elevation\")\n",
    "r_windfetch_map.d_rast(map=\"lakes\")\n",
    "r_windfetch_map.d_vect(map=\"point\", icon=\"basic/circle\", size=15, fill_color=\"black\")\n",
    "r_windfetch_map.show()"
   ]
  },
  {
   "cell_type": "code",
   "execution_count": null,
   "metadata": {},
   "outputs": [],
   "source": [
    "directions = np.deg2rad(\n",
    "    data[0][\"directions\"]\n",
    ")  # Convert degrees to radians for polar plot\n",
    "fetch = data[0][\"fetch\"]\n",
    "from PIL import Image\n",
    "\n",
    "# Open the PNG image and the plot\n",
    "png_image = Image.open(r_windfetch_map.filename)\n",
    "\n",
    "plot_image = plt.figure(figsize=(5, 5))\n",
    "\n",
    "# Plot your polar plot\n",
    "ax = plt.subplot(111, polar=True)\n",
    "ax.plot(directions, fetch, marker=\"o\", linestyle=\"-\")\n",
    "ax.fill(directions, fetch, alpha=0.3)\n",
    "ax.set_theta_zero_location(\"E\")\n",
    "ax.set_theta_direction(1)\n",
    "ax.set_title(\"Wind fetch\", va=\"bottom\")\n",
    "\n",
    "# Save the plot as a temporary image\n",
    "plot_image.savefig(\"temp_plot.png\")\n",
    "\n",
    "# Open the saved plot image\n",
    "plot_image = Image.open(\"temp_plot.png\")\n",
    "\n",
    "# Determine the scale factor for resizing\n",
    "max_width = 800\n",
    "scale_factor = max_width / float(png_image.width + plot_image.width)\n",
    "\n",
    "# Resize the images\n",
    "png_image_resized = png_image.resize(\n",
    "    (int(png_image.width * scale_factor), int(png_image.height * scale_factor))\n",
    ")\n",
    "plot_image_resized = plot_image.resize(\n",
    "    (int(plot_image.width * scale_factor), int(plot_image.height * scale_factor))\n",
    ")\n",
    "\n",
    "# Determine the size of the combined image\n",
    "max_height = max(png_image_resized.height, plot_image_resized.height)\n",
    "combined_width = png_image_resized.width + plot_image_resized.width\n",
    "\n",
    "# Create a new blank image with the size of the combined image\n",
    "combined_image = Image.new(\"RGB\", (combined_width, max_height), color=\"white\")\n",
    "\n",
    "# Paste the PNG image on the left side\n",
    "combined_image.paste(png_image_resized, (0, 0))\n",
    "\n",
    "# Paste the plot image on the right side\n",
    "combined_image.paste(plot_image_resized, (png_image_resized.width, 0))\n",
    "\n",
    "# Show the combined image\n",
    "combined_image.show()\n",
    "\n",
    "# Save the combined image\n",
    "combined_image.save(\"r_windfetch.png\")"
   ]
  }
 ],
 "metadata": {
  "kernelspec": {
   "display_name": "Python 3 (ipykernel)",
   "language": "python",
   "name": "python3"
  },
  "language_info": {
   "codemirror_mode": {
    "name": "ipython",
    "version": 3
   },
   "file_extension": ".py",
   "mimetype": "text/x-python",
   "name": "python",
   "nbconvert_exporter": "python",
   "pygments_lexer": "ipython3",
   "version": "3.8.13"
  }
 },
 "nbformat": 4,
 "nbformat_minor": 4
}
