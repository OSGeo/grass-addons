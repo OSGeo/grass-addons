{
 "cells": [
  {
   "cell_type": "markdown",
   "metadata": {},
   "source": [
    "# Graphics for Description of r.series\n",
    "\n",
    "Requires _pngquant_, _optipng_ and ImageMagic _mogrify_."
   ]
  },
  {
   "cell_type": "code",
   "execution_count": null,
   "metadata": {},
   "outputs": [],
   "source": [
    "import os\n",
    "\n",
    "from IPython.display import Image\n",
    "\n",
    "import grass.script as gs\n",
    "import grass.jupyter as gj"
   ]
  },
  {
   "cell_type": "code",
   "execution_count": null,
   "metadata": {},
   "outputs": [],
   "source": [
    "gj.init(\"~/grassdata/nc_basic_spm_grass7/user1\")"
   ]
  },
  {
   "cell_type": "code",
   "execution_count": null,
   "metadata": {},
   "outputs": [],
   "source": [
    "!g.region vector=roadsmajor res=100\n",
    "!r.mapcalc expression=\"a = 1000 * sin(row())\"\n",
    "!r.mapcalc expression=\"b = 0\"\n",
    "!v.rast.move input=roadsmajor output=roads_moved x_raster=a y_raster=b"
   ]
  },
  {
   "cell_type": "code",
   "execution_count": null,
   "metadata": {},
   "outputs": [],
   "source": [
    "!g.region vector=roadsmajor,roads_moved\n",
    "!r.colors map=a color=difference --q\n",
    "!v.patch input=roadsmajor,roads_moved output=merged --q\n",
    "!v.buffer input=merged output=buffer distance=1000 --q"
   ]
  },
  {
   "cell_type": "code",
   "execution_count": null,
   "metadata": {},
   "outputs": [],
   "source": [
    "plot = gj.Map(use_region=True, width=700)\n",
    "plot.d_background(color=\"white\")\n",
    "plot.d_rast(map=\"a\")\n",
    "plot.d_vect(map=\"buffer\", color=\"white\", fill_color=\"white\", flags=\"s\")\n",
    "plot.d_vect(map=\"roadsmajor\", color=\"blue\", width=5, legend_label=\"Original\")\n",
    "plot.d_vect(map=\"roads_moved\", color=\"red\", width=5, legend_label=\"Shifted\")\n",
    "plot.d_legend_vect(flags=\"b\", at=(60, 10))\n",
    "plot.d_legend(raster=\"a\", at=\"8,35,85,90\", flags=\"b\", title=\"X shift\")\n",
    "plot.show()"
   ]
  },
  {
   "cell_type": "code",
   "execution_count": null,
   "metadata": {},
   "outputs": [],
   "source": [
    "filename = \"v_rast_move.png\"\n",
    "plot.save(filename)\n",
    "!mogrify -trim {filename}\n",
    "!pngquant --ext \".png\" -f {filename}\n",
    "!optipng -o7 {filename}\n",
    "Image(filename)"
   ]
  }
 ],
 "metadata": {
  "kernelspec": {
   "display_name": "Python 3",
   "language": "python",
   "name": "python3"
  },
  "language_info": {
   "codemirror_mode": {
    "name": "ipython",
    "version": 3
   },
   "file_extension": ".py",
   "mimetype": "text/x-python",
   "name": "python",
   "nbconvert_exporter": "python",
   "pygments_lexer": "ipython3",
   "version": "3.8.10"
  }
 },
 "nbformat": 4,
 "nbformat_minor": 4
}
